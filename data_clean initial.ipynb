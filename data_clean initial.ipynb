{
 "cells": [
  {
   "cell_type": "code",
   "execution_count": 1,
   "id": "579108f5",
   "metadata": {},
   "outputs": [],
   "source": [
    "import pandas as pd\n",
    "import numpy as np\n",
    "import warnings \n",
    "import matplotlib.pyplot as plt\n",
    "from sklearn.linear_model import LinearRegression\n",
    "import seaborn as sns\n",
    "from sklearn.decomposition import PCA"
   ]
  },
  {
   "cell_type": "code",
   "execution_count": 2,
   "id": "cf8cfa60",
   "metadata": {},
   "outputs": [],
   "source": [
    "warnings.filterwarnings('ignore')"
   ]
  },
  {
   "cell_type": "code",
   "execution_count": 3,
   "id": "6feeb37a",
   "metadata": {},
   "outputs": [],
   "source": [
    "food = pd.read_csv('openfoodfacts.csv', engine = 'python', sep = '\\t', on_bad_lines = 'skip')"
   ]
  },
  {
   "cell_type": "code",
   "execution_count": 4,
   "id": "f416f3b3",
   "metadata": {},
   "outputs": [
    {
     "data": {
      "text/plain": [
       "(320767, 162)"
      ]
     },
     "execution_count": 4,
     "metadata": {},
     "output_type": "execute_result"
    }
   ],
   "source": [
    "food.shape"
   ]
  },
  {
   "cell_type": "markdown",
   "id": "ef3ea87f",
   "metadata": {},
   "source": [
    "1. Nettoyage des variables avec trop peu de valeurs\n",
    "- il y a beaucoup de variables avec très peu de valeurs, on va retenir les variables avec plus 10% individus avec valeurs ."
   ]
  },
  {
   "cell_type": "code",
   "execution_count": 5,
   "id": "3e54326d",
   "metadata": {},
   "outputs": [
    {
     "data": {
      "text/plain": [
       "code                       0.999928\n",
       "url                        0.999928\n",
       "creator                    0.999994\n",
       "created_t                  0.999991\n",
       "created_datetime           0.999972\n",
       "                             ...   \n",
       "carbon-footprint_100g      0.000835\n",
       "nutrition-score-fr_100g    0.689616\n",
       "nutrition-score-uk_100g    0.689616\n",
       "glycemic-index_100g        0.000000\n",
       "water-hardness_100g        0.000000\n",
       "Length: 162, dtype: float64"
      ]
     },
     "execution_count": 5,
     "metadata": {},
     "output_type": "execute_result"
    }
   ],
   "source": [
    "food.notna().sum()/len(food)"
   ]
  },
  {
   "cell_type": "code",
   "execution_count": 6,
   "id": "24e6faba",
   "metadata": {},
   "outputs": [],
   "source": [
    "food_1 = food\n",
    "for var in food:\n",
    "    if food[var].isna().sum()/len(food) > 0.9:\n",
    "        food_1 = food_1.drop([var], axis = 1)"
   ]
  },
  {
   "cell_type": "code",
   "execution_count": 7,
   "id": "d6e97279",
   "metadata": {},
   "outputs": [
    {
     "data": {
      "text/plain": [
       "(320767, 62)"
      ]
     },
     "execution_count": 7,
     "metadata": {},
     "output_type": "execute_result"
    }
   ],
   "source": [
    "food_1.shape"
   ]
  },
  {
   "cell_type": "markdown",
   "id": "bff48468",
   "metadata": {},
   "source": [
    "2. Nettoyage des variables inutiles pour l'application : Notre application utilisent les variables quantitive suivantes pour chaque type de population, les autres variabales quantitatives sont eliminées : Energie (kcal)\tvitamine_A (microGrammes)\tvitamine C (mg)\tcalcium (mg), fer (mg)\tprotein (g)\tglucide/carbonhydrate (g)\tlipide/gras (g)\tsel max (g)\tsucre max (g)\n",
    "\n",
    "    - eliminer les variables temps: \n",
    "    - éliminer les variables doublons qui termine par '_tags', 'url',  '_fr' (sauf grade_fr)\n",
    "    - éliminer les variables non signficatives pour l'application"
   ]
  },
  {
   "cell_type": "code",
   "execution_count": 8,
   "id": "c77f240a",
   "metadata": {},
   "outputs": [],
   "source": [
    "food_2 = food_1.drop(['created_t', 'last_modified_t', 'last_modified_datetime', 'created_datetime'], axis = 1)"
   ]
  },
  {
   "cell_type": "code",
   "execution_count": 9,
   "id": "0535a668",
   "metadata": {},
   "outputs": [],
   "source": [
    "for var in food_2:\n",
    "    if (var[-3:] == 'url' or var[-5:] == '_tags') :\n",
    "        food_2 = food_2.drop([var], axis =1)"
   ]
  },
  {
   "cell_type": "code",
   "execution_count": 10,
   "id": "190fd57a",
   "metadata": {},
   "outputs": [],
   "source": [
    "for var in food_2:\n",
    "    if (var[-3:] == '_fr' and var[-8:] != 'grade_fr') :\n",
    "        food_2 = food_2.drop([var], axis =1)"
   ]
  },
  {
   "cell_type": "code",
   "execution_count": 11,
   "id": "9df920dd",
   "metadata": {},
   "outputs": [],
   "source": [
    "food_2 = food_2.drop(['creator','categories', 'quantity', 'generic_name','packaging','manufacturing_places',\n",
    "                           'labels','ingredients_text','purchase_places','main_category',\n",
    "                           'stores','ingredients_from_palm_oil_n','ingredients_that_may_be_from_palm_oil_n',\n",
    "                           'additives_n','additives','states', 'pnns_groups_1','pnns_groups_2',\n",
    "                           'nutrition-score-uk_100g', 'saturated-fat_100g', 'trans-fat_100g', 'cholesterol_100g', 'sodium_100g', 'fiber_100g'], axis =1)"
   ]
  },
  {
   "cell_type": "code",
   "execution_count": 12,
   "id": "b6aa2d50",
   "metadata": {},
   "outputs": [],
   "source": [
    "food_2.to_csv('food_2.csv')"
   ]
  },
  {
   "cell_type": "code",
   "execution_count": 13,
   "id": "845dcac5",
   "metadata": {},
   "outputs": [
    {
     "data": {
      "text/plain": [
       "(320767, 17)"
      ]
     },
     "execution_count": 13,
     "metadata": {},
     "output_type": "execute_result"
    }
   ],
   "source": [
    "food_2.shape"
   ]
  },
  {
   "cell_type": "markdown",
   "id": "2ee13a10",
   "metadata": {},
   "source": [
    "3. Nettoyage des individus qui ne peuvent pas être utilisés par l'application:  \n",
    "        - éliminier les individus avec code ou product_name vide ou 'serving_size' vide "
   ]
  },
  {
   "cell_type": "code",
   "execution_count": 14,
   "id": "e75c312d",
   "metadata": {},
   "outputs": [
    {
     "data": {
      "text/plain": [
       "17783"
      ]
     },
     "execution_count": 14,
     "metadata": {},
     "output_type": "execute_result"
    }
   ],
   "source": [
    "food_2['code'].isna().sum() | food_2['product_name'].isna().sum()"
   ]
  },
  {
   "cell_type": "code",
   "execution_count": 15,
   "id": "f6e7a66c",
   "metadata": {},
   "outputs": [
    {
     "data": {
      "text/plain": [
       "109441"
      ]
     },
     "execution_count": 15,
     "metadata": {},
     "output_type": "execute_result"
    }
   ],
   "source": [
    "food_2['serving_size'].isna().sum()"
   ]
  },
  {
   "cell_type": "code",
   "execution_count": 16,
   "id": "b4eb6014",
   "metadata": {},
   "outputs": [],
   "source": [
    "food_3= food_2.loc[food_2['product_name'].notna() & food_2['code'].notna() & food_2['serving_size'].notna()]"
   ]
  },
  {
   "cell_type": "code",
   "execution_count": 17,
   "id": "b3edd71b",
   "metadata": {},
   "outputs": [
    {
     "data": {
      "text/plain": [
       "(209386, 17)"
      ]
     },
     "execution_count": 17,
     "metadata": {},
     "output_type": "execute_result"
    }
   ],
   "source": [
    "food_3.shape"
   ]
  },
  {
   "cell_type": "markdown",
   "id": "bc351122",
   "metadata": {},
   "source": [
    "4. Remplacer les individus dont des valeurs de nutrition sont invalides (< 0, ou > 100) par la moyenne"
   ]
  },
  {
   "cell_type": "code",
   "execution_count": 18,
   "id": "3c106b7f",
   "metadata": {},
   "outputs": [],
   "source": [
    "food_4 = food_3"
   ]
  },
  {
   "cell_type": "code",
   "execution_count": 19,
   "id": "ebaa472b",
   "metadata": {},
   "outputs": [],
   "source": [
    "food_4['fat_100g'] = food_4['fat_100g'].apply(lambda x: food_4['fat_100g'].mean() if (x > 100 or x < 0) else x)\n",
    "food_4['carbohydrates_100g'] = food_4['carbohydrates_100g'].apply(lambda x: food_4['carbohydrates_100g'].mean() if (x > 100 or x < 0) else x)\n",
    "food_4['sugars_100g'] = food_4['sugars_100g'].apply(lambda x: food_4['sugars_100g'].mean() if (x > 100 or x < 0) else x)\n",
    "food_4['vitamin-a_100g'] = food_4['vitamin-a_100g'].apply(lambda x: food_4['vitamin-a_100g'].mean() if (x > 100 or x < 0) else x)\n",
    "food_4['vitamin-c_100g'] = food_4['vitamin-c_100g'].apply(lambda x: food_4['vitamin-c_100g'].mean() if (x > 100 or x < 0) else x)\n",
    "food_4['calcium_100g'] = food_4['calcium_100g'].apply(lambda x: food_4['calcium_100g'].mean() if (x > 100 or x < 0) else x)\n",
    "food_4['iron_100g'] = food_4['iron_100g'].apply(lambda x: food_4['iron_100g'].mean() if (x > 100 or x < 0) else x)\n",
    "food_4['nutrition-score-fr_100g'] = food_4['nutrition-score-fr_100g'].apply(lambda x: food_4['nutrition-score-fr_100g'].mean() if x > 100 else x)\n",
    "food_4['salt_100g'] = food_4['salt_100g'].apply(lambda x: food_4['salt_100g'].mean() if (x > 100 or x < 0) else x)\n",
    "food_4['proteins_100g'] = food_4['proteins_100g'].apply(lambda x: food_4['proteins_100g'].mean() if (x > 100 or x < 0) else x)"
   ]
  },
  {
   "cell_type": "code",
   "execution_count": 20,
   "id": "04969aeb",
   "metadata": {},
   "outputs": [
    {
     "data": {
      "text/plain": [
       "(209386, 17)"
      ]
     },
     "execution_count": 20,
     "metadata": {},
     "output_type": "execute_result"
    }
   ],
   "source": [
    "food_4.shape"
   ]
  },
  {
   "cell_type": "code",
   "execution_count": 21,
   "id": "7f35336c",
   "metadata": {},
   "outputs": [],
   "source": [
    "food_4.to_csv('food_4.csv')"
   ]
  },
  {
   "cell_type": "markdown",
   "id": "2050b49f",
   "metadata": {},
   "source": [
    "5. traitement des valeurs manquantes soit par la moyenne, par la médiane et par la relation "
   ]
  },
  {
   "cell_type": "code",
   "execution_count": 22,
   "id": "8c29b156",
   "metadata": {},
   "outputs": [],
   "source": [
    "food_5 = food_4"
   ]
  },
  {
   "cell_type": "code",
   "execution_count": 23,
   "id": "83887ca2",
   "metadata": {},
   "outputs": [
    {
     "data": {
      "text/plain": [
       "383567"
      ]
     },
     "execution_count": 23,
     "metadata": {},
     "output_type": "execute_result"
    }
   ],
   "source": [
    "food_5.isnull().sum().sum()"
   ]
  },
  {
   "cell_type": "code",
   "execution_count": 24,
   "id": "9c2d785b",
   "metadata": {},
   "outputs": [],
   "source": [
    "food_5['energy_100g'].fillna(food_5['energy_100g'].mean(), inplace=True)\n",
    "food_5['fat_100g'].fillna(food_5['fat_100g'].mean(), inplace=True)\n",
    "food_5['carbohydrates_100g'].fillna(food_5['carbohydrates_100g'].mean(), inplace=True)\n",
    "food_5['sugars_100g'].fillna(food_5['sugars_100g'].mean(), inplace=True)\n",
    "food_5['vitamin-a_100g'].fillna(food_5['vitamin-a_100g'].mean(), inplace=True)\n",
    "food_5['vitamin-c_100g'].fillna(food_5['vitamin-c_100g'].mean(), inplace=True)\n",
    "food_5['calcium_100g'].fillna(food_5['calcium_100g'].mean(), inplace=True)\n",
    "food_5['iron_100g'].fillna(food_5['iron_100g'].mean(), inplace=True)\n",
    "food_5['salt_100g'].fillna(food_5['salt_100g'].mean(), inplace=True)\n",
    "food_5['proteins_100g'].fillna(food_5['proteins_100g'].mean(), inplace=True)"
   ]
  },
  {
   "cell_type": "code",
   "execution_count": 25,
   "id": "5b56dc6e",
   "metadata": {},
   "outputs": [
    {
     "data": {
      "text/plain": [
       "75365"
      ]
     },
     "execution_count": 25,
     "metadata": {},
     "output_type": "execute_result"
    }
   ],
   "source": [
    "food_5.isnull().sum().sum()"
   ]
  },
  {
   "cell_type": "code",
   "execution_count": 26,
   "id": "857a73f4",
   "metadata": {},
   "outputs": [],
   "source": [
    "food_5['nutrition-score-fr_100g'].fillna(food_5['nutrition-score-fr_100g'].median(), inplace=True)"
   ]
  },
  {
   "cell_type": "code",
   "execution_count": 27,
   "id": "c656fdbb",
   "metadata": {},
   "outputs": [
    {
     "data": {
      "text/plain": [
       "38744"
      ]
     },
     "execution_count": 27,
     "metadata": {},
     "output_type": "execute_result"
    }
   ],
   "source": [
    "food_5.isnull().sum().sum()"
   ]
  },
  {
   "cell_type": "markdown",
   "id": "ce4ce6e4",
   "metadata": {},
   "source": [
    "remplace la valeur manquante de nutrition_grade_fr via la relation entre nutrition_grade_fr et nutrition-score-fr_100g : \n",
    "    a < 0, 0<=b < 3, 3<=c <=10, 10 < d < 20, e >= 20. "
   ]
  },
  {
   "cell_type": "code",
   "execution_count": 28,
   "id": "f1d549e6",
   "metadata": {},
   "outputs": [],
   "source": [
    "def condition(x):\n",
    "    if x < 0:\n",
    "        return \"a\"\n",
    "    elif x>=0 and x<3:\n",
    "        return \"b\"\n",
    "    elif x>=3 and x<=10:\n",
    "        return \"c\"\n",
    "    elif x>10 and x<20:\n",
    "        return \"d\"\n",
    "    else:\n",
    "        return \"e\"\n",
    "food_5['nutrition_grade_fr'] = food_5['nutrition-score-fr_100g'].apply(condition)"
   ]
  },
  {
   "cell_type": "code",
   "execution_count": 29,
   "id": "be380921",
   "metadata": {},
   "outputs": [],
   "source": [
    "food_5 = food_5.drop(['nutrition-score-fr_100g'], axis = 1)"
   ]
  },
  {
   "cell_type": "code",
   "execution_count": 30,
   "id": "91d1bf72",
   "metadata": {},
   "outputs": [
    {
     "data": {
      "text/plain": [
       "2123"
      ]
     },
     "execution_count": 30,
     "metadata": {},
     "output_type": "execute_result"
    }
   ],
   "source": [
    "food_5.isnull().sum().sum()"
   ]
  },
  {
   "cell_type": "code",
   "execution_count": 31,
   "id": "b6df26b4",
   "metadata": {},
   "outputs": [],
   "source": [
    "food_5.to_csv('food_5.csv')"
   ]
  },
  {
   "cell_type": "code",
   "execution_count": 32,
   "id": "a0ad5a90",
   "metadata": {},
   "outputs": [
    {
     "data": {
      "text/plain": [
       "(209386, 16)"
      ]
     },
     "execution_count": 32,
     "metadata": {},
     "output_type": "execute_result"
    }
   ],
   "source": [
    "food_5.shape"
   ]
  },
  {
   "cell_type": "markdown",
   "id": "1b22b487",
   "metadata": {},
   "source": [
    "6: nettoyage:   convertir valeur serving_size en numérique : garder les individus dont serving_size contient 'g' 'ml' ou 'G' et extrait la valeur numérique pour uniformiser la valeur en gramme, écarter les individus qui ne contiennet pas 'g', 'G' ou 'ml'. "
   ]
  },
  {
   "cell_type": "code",
   "execution_count": 33,
   "id": "3d9ddd5b",
   "metadata": {},
   "outputs": [],
   "source": [
    "food_6 = food_5"
   ]
  },
  {
   "cell_type": "code",
   "execution_count": 34,
   "id": "b49861a4",
   "metadata": {},
   "outputs": [],
   "source": [
    "i = 0\n",
    "j = len(food_6) - 1\n",
    "while i < j: \n",
    "# convertir le content en mots séparés,  prendre le premier mot comme valeur en gramme.\n",
    "    mylist = food_6['serving_size'].iloc[i].split(\" \")\n",
    "    if len(mylist) > 1:\n",
    "        if mylist[1] == 'g' or mylist[1] == 'ml' or mylist[1] == 'G' : \n",
    "            food_6['serving_size'].iloc[i] = mylist[0]\n",
    "            i+=1\n",
    "        else: \n",
    "            food_6 = food_6.drop(index=food_6.iloc[i].name)\n",
    "            j-=1\n",
    "    else: \n",
    "        food_6 = food_6.drop(index=food_6.iloc[i].name)\n",
    "        j-=1\n",
    "    "
   ]
  },
  {
   "cell_type": "code",
   "execution_count": 35,
   "id": "6486dbeb",
   "metadata": {},
   "outputs": [
    {
     "data": {
      "text/plain": [
       "(199562, 16)"
      ]
     },
     "execution_count": 35,
     "metadata": {},
     "output_type": "execute_result"
    }
   ],
   "source": [
    "food_6.shape"
   ]
  },
  {
   "cell_type": "code",
   "execution_count": 36,
   "id": "d6ebebb4",
   "metadata": {},
   "outputs": [],
   "source": [
    "food_6.to_csv('food_6.csv')"
   ]
  },
  {
   "cell_type": "markdown",
   "id": "2c928ed4",
   "metadata": {},
   "source": [
    "7:  traitement des outliers"
   ]
  },
  {
   "cell_type": "code",
   "execution_count": 37,
   "id": "a58a2278",
   "metadata": {},
   "outputs": [],
   "source": [
    "Q1 = food_6.quantile(0.25)\n",
    "Q3 = food_6.quantile(0.75)\n",
    "IQR = Q3 - Q1\n",
    "\n",
    "# Remove outliers\n",
    "food_7 = food_6[~((food_6 < (Q1 - 1.5 * IQR)) |(food_6 > (Q3 + 1.5 * IQR))).any(axis=1)]"
   ]
  },
  {
   "cell_type": "code",
   "execution_count": 38,
   "id": "03b0552f",
   "metadata": {},
   "outputs": [
    {
     "data": {
      "text/plain": [
       "(145582, 16)"
      ]
     },
     "execution_count": 38,
     "metadata": {},
     "output_type": "execute_result"
    }
   ],
   "source": [
    "food_7.shape"
   ]
  },
  {
   "cell_type": "code",
   "execution_count": 39,
   "id": "9a8745f9",
   "metadata": {},
   "outputs": [
    {
     "data": {
      "text/plain": [
       "0"
      ]
     },
     "execution_count": 39,
     "metadata": {},
     "output_type": "execute_result"
    }
   ],
   "source": [
    "food_7.duplicated().sum()"
   ]
  },
  {
   "cell_type": "code",
   "execution_count": 40,
   "id": "16856b53",
   "metadata": {
    "scrolled": true
   },
   "outputs": [
    {
     "data": {
      "text/plain": [
       "code                  1.000000\n",
       "product_name          1.000000\n",
       "brands                0.989525\n",
       "countries             0.999876\n",
       "serving_size          1.000000\n",
       "nutrition_grade_fr    1.000000\n",
       "energy_100g           1.000000\n",
       "fat_100g              1.000000\n",
       "carbohydrates_100g    1.000000\n",
       "sugars_100g           1.000000\n",
       "proteins_100g         1.000000\n",
       "salt_100g             1.000000\n",
       "vitamin-a_100g        1.000000\n",
       "vitamin-c_100g        1.000000\n",
       "calcium_100g          1.000000\n",
       "iron_100g             1.000000\n",
       "dtype: float64"
      ]
     },
     "execution_count": 40,
     "metadata": {},
     "output_type": "execute_result"
    }
   ],
   "source": [
    "food_7.notna().sum()/len(food_7)"
   ]
  },
  {
   "cell_type": "code",
   "execution_count": 44,
   "id": "237cde90",
   "metadata": {},
   "outputs": [],
   "source": [
    "food_7.to_csv('food_7.csv')"
   ]
  },
  {
   "cell_type": "code",
   "execution_count": 42,
   "id": "88446d53",
   "metadata": {},
   "outputs": [],
   "source": [
    "food_8 = pd.read_csv('food_7.csv')"
   ]
  },
  {
   "cell_type": "code",
   "execution_count": null,
   "id": "8d5e556d",
   "metadata": {},
   "outputs": [],
   "source": []
  },
  {
   "cell_type": "code",
   "execution_count": 43,
   "id": "2838e9d1",
   "metadata": {},
   "outputs": [
    {
     "ename": "TypeError",
     "evalue": "argument of type 'float' is not iterable",
     "output_type": "error",
     "traceback": [
      "\u001b[1;31m---------------------------------------------------------------------------\u001b[0m",
      "\u001b[1;31mTypeError\u001b[0m                                 Traceback (most recent call last)",
      "\u001b[1;32m~\\AppData\\Local\\Temp\\ipykernel_12648\\1240857544.py\u001b[0m in \u001b[0;36m<module>\u001b[1;34m\u001b[0m\n\u001b[0;32m     15\u001b[0m         \u001b[1;32mreturn\u001b[0m \u001b[1;34m\"World\"\u001b[0m\u001b[1;33m\u001b[0m\u001b[1;33m\u001b[0m\u001b[0m\n\u001b[0;32m     16\u001b[0m \u001b[1;33m\u001b[0m\u001b[0m\n\u001b[1;32m---> 17\u001b[1;33m \u001b[0mfood_8\u001b[0m\u001b[1;33m[\u001b[0m\u001b[1;34m'continent'\u001b[0m\u001b[1;33m]\u001b[0m \u001b[1;33m=\u001b[0m \u001b[0mfood_8\u001b[0m\u001b[1;33m[\u001b[0m\u001b[1;34m'countries'\u001b[0m\u001b[1;33m]\u001b[0m\u001b[1;33m.\u001b[0m\u001b[0mapply\u001b[0m\u001b[1;33m(\u001b[0m\u001b[0mconditions\u001b[0m\u001b[1;33m)\u001b[0m\u001b[1;33m\u001b[0m\u001b[1;33m\u001b[0m\u001b[0m\n\u001b[0m",
      "\u001b[1;32m~\\anaconda3\\lib\\site-packages\\pandas\\core\\series.py\u001b[0m in \u001b[0;36mapply\u001b[1;34m(self, func, convert_dtype, args, **kwargs)\u001b[0m\n\u001b[0;32m   4431\u001b[0m         \u001b[0mdtype\u001b[0m\u001b[1;33m:\u001b[0m \u001b[0mfloat64\u001b[0m\u001b[1;33m\u001b[0m\u001b[1;33m\u001b[0m\u001b[0m\n\u001b[0;32m   4432\u001b[0m         \"\"\"\n\u001b[1;32m-> 4433\u001b[1;33m         \u001b[1;32mreturn\u001b[0m \u001b[0mSeriesApply\u001b[0m\u001b[1;33m(\u001b[0m\u001b[0mself\u001b[0m\u001b[1;33m,\u001b[0m \u001b[0mfunc\u001b[0m\u001b[1;33m,\u001b[0m \u001b[0mconvert_dtype\u001b[0m\u001b[1;33m,\u001b[0m \u001b[0margs\u001b[0m\u001b[1;33m,\u001b[0m \u001b[0mkwargs\u001b[0m\u001b[1;33m)\u001b[0m\u001b[1;33m.\u001b[0m\u001b[0mapply\u001b[0m\u001b[1;33m(\u001b[0m\u001b[1;33m)\u001b[0m\u001b[1;33m\u001b[0m\u001b[1;33m\u001b[0m\u001b[0m\n\u001b[0m\u001b[0;32m   4434\u001b[0m \u001b[1;33m\u001b[0m\u001b[0m\n\u001b[0;32m   4435\u001b[0m     def _reduce(\n",
      "\u001b[1;32m~\\anaconda3\\lib\\site-packages\\pandas\\core\\apply.py\u001b[0m in \u001b[0;36mapply\u001b[1;34m(self)\u001b[0m\n\u001b[0;32m   1086\u001b[0m             \u001b[1;32mreturn\u001b[0m \u001b[0mself\u001b[0m\u001b[1;33m.\u001b[0m\u001b[0mapply_str\u001b[0m\u001b[1;33m(\u001b[0m\u001b[1;33m)\u001b[0m\u001b[1;33m\u001b[0m\u001b[1;33m\u001b[0m\u001b[0m\n\u001b[0;32m   1087\u001b[0m \u001b[1;33m\u001b[0m\u001b[0m\n\u001b[1;32m-> 1088\u001b[1;33m         \u001b[1;32mreturn\u001b[0m \u001b[0mself\u001b[0m\u001b[1;33m.\u001b[0m\u001b[0mapply_standard\u001b[0m\u001b[1;33m(\u001b[0m\u001b[1;33m)\u001b[0m\u001b[1;33m\u001b[0m\u001b[1;33m\u001b[0m\u001b[0m\n\u001b[0m\u001b[0;32m   1089\u001b[0m \u001b[1;33m\u001b[0m\u001b[0m\n\u001b[0;32m   1090\u001b[0m     \u001b[1;32mdef\u001b[0m \u001b[0magg\u001b[0m\u001b[1;33m(\u001b[0m\u001b[0mself\u001b[0m\u001b[1;33m)\u001b[0m\u001b[1;33m:\u001b[0m\u001b[1;33m\u001b[0m\u001b[1;33m\u001b[0m\u001b[0m\n",
      "\u001b[1;32m~\\anaconda3\\lib\\site-packages\\pandas\\core\\apply.py\u001b[0m in \u001b[0;36mapply_standard\u001b[1;34m(self)\u001b[0m\n\u001b[0;32m   1141\u001b[0m                 \u001b[1;31m# List[Union[Callable[..., Any], str]]]]]\"; expected\u001b[0m\u001b[1;33m\u001b[0m\u001b[1;33m\u001b[0m\u001b[0m\n\u001b[0;32m   1142\u001b[0m                 \u001b[1;31m# \"Callable[[Any], Any]\"\u001b[0m\u001b[1;33m\u001b[0m\u001b[1;33m\u001b[0m\u001b[0m\n\u001b[1;32m-> 1143\u001b[1;33m                 mapped = lib.map_infer(\n\u001b[0m\u001b[0;32m   1144\u001b[0m                     \u001b[0mvalues\u001b[0m\u001b[1;33m,\u001b[0m\u001b[1;33m\u001b[0m\u001b[1;33m\u001b[0m\u001b[0m\n\u001b[0;32m   1145\u001b[0m                     \u001b[0mf\u001b[0m\u001b[1;33m,\u001b[0m  \u001b[1;31m# type: ignore[arg-type]\u001b[0m\u001b[1;33m\u001b[0m\u001b[1;33m\u001b[0m\u001b[0m\n",
      "\u001b[1;32m~\\anaconda3\\lib\\site-packages\\pandas\\_libs\\lib.pyx\u001b[0m in \u001b[0;36mpandas._libs.lib.map_infer\u001b[1;34m()\u001b[0m\n",
      "\u001b[1;32m~\\AppData\\Local\\Temp\\ipykernel_12648\\1240857544.py\u001b[0m in \u001b[0;36mconditions\u001b[1;34m(y)\u001b[0m\n\u001b[0;32m      6\u001b[0m     \u001b[0mamerica\u001b[0m \u001b[1;33m=\u001b[0m \u001b[1;33m[\u001b[0m\u001b[1;34m\"US\"\u001b[0m\u001b[1;33m,\u001b[0m\u001b[1;34m\"en:US\"\u001b[0m\u001b[1;33m,\u001b[0m\u001b[1;34m\"en:CA\"\u001b[0m\u001b[1;33m,\u001b[0m\u001b[1;34m\"United States\"\u001b[0m\u001b[1;33m,\u001b[0m\u001b[1;34m\"Bra\"\u001b[0m\u001b[1;33m,\u001b[0m\u001b[1;34m\"Canada\"\u001b[0m\u001b[1;33m,\u001b[0m\u001b[1;34m\"USA\"\u001b[0m\u001b[1;33m,\u001b[0m\u001b[1;34m\"xico\"\u001b[0m\u001b[1;33m,\u001b[0m\u001b[1;34m\"Chil\"\u001b[0m\u001b[1;33m]\u001b[0m\u001b[1;33m\u001b[0m\u001b[1;33m\u001b[0m\u001b[0m\n\u001b[0;32m      7\u001b[0m \u001b[1;33m\u001b[0m\u001b[0m\n\u001b[1;32m----> 8\u001b[1;33m     \u001b[1;32mif\u001b[0m \u001b[0many\u001b[0m\u001b[1;33m(\u001b[0m\u001b[1;33m[\u001b[0m\u001b[0mx\u001b[0m \u001b[1;32min\u001b[0m \u001b[0my\u001b[0m \u001b[1;32mfor\u001b[0m \u001b[0mx\u001b[0m \u001b[1;32min\u001b[0m \u001b[0masia\u001b[0m\u001b[1;33m]\u001b[0m\u001b[1;33m)\u001b[0m\u001b[1;33m:\u001b[0m\u001b[1;33m\u001b[0m\u001b[1;33m\u001b[0m\u001b[0m\n\u001b[0m\u001b[0;32m      9\u001b[0m         \u001b[1;32mreturn\u001b[0m \u001b[1;34m\"Asia\"\u001b[0m\u001b[1;33m\u001b[0m\u001b[1;33m\u001b[0m\u001b[0m\n\u001b[0;32m     10\u001b[0m     \u001b[1;32melif\u001b[0m \u001b[0many\u001b[0m\u001b[1;33m(\u001b[0m\u001b[1;33m[\u001b[0m\u001b[0mx\u001b[0m \u001b[1;32min\u001b[0m \u001b[0my\u001b[0m \u001b[1;32mfor\u001b[0m \u001b[0mx\u001b[0m \u001b[1;32min\u001b[0m \u001b[0meurope\u001b[0m\u001b[1;33m]\u001b[0m\u001b[1;33m)\u001b[0m\u001b[1;33m:\u001b[0m\u001b[1;33m\u001b[0m\u001b[1;33m\u001b[0m\u001b[0m\n",
      "\u001b[1;32m~\\AppData\\Local\\Temp\\ipykernel_12648\\1240857544.py\u001b[0m in \u001b[0;36m<listcomp>\u001b[1;34m(.0)\u001b[0m\n\u001b[0;32m      6\u001b[0m     \u001b[0mamerica\u001b[0m \u001b[1;33m=\u001b[0m \u001b[1;33m[\u001b[0m\u001b[1;34m\"US\"\u001b[0m\u001b[1;33m,\u001b[0m\u001b[1;34m\"en:US\"\u001b[0m\u001b[1;33m,\u001b[0m\u001b[1;34m\"en:CA\"\u001b[0m\u001b[1;33m,\u001b[0m\u001b[1;34m\"United States\"\u001b[0m\u001b[1;33m,\u001b[0m\u001b[1;34m\"Bra\"\u001b[0m\u001b[1;33m,\u001b[0m\u001b[1;34m\"Canada\"\u001b[0m\u001b[1;33m,\u001b[0m\u001b[1;34m\"USA\"\u001b[0m\u001b[1;33m,\u001b[0m\u001b[1;34m\"xico\"\u001b[0m\u001b[1;33m,\u001b[0m\u001b[1;34m\"Chil\"\u001b[0m\u001b[1;33m]\u001b[0m\u001b[1;33m\u001b[0m\u001b[1;33m\u001b[0m\u001b[0m\n\u001b[0;32m      7\u001b[0m \u001b[1;33m\u001b[0m\u001b[0m\n\u001b[1;32m----> 8\u001b[1;33m     \u001b[1;32mif\u001b[0m \u001b[0many\u001b[0m\u001b[1;33m(\u001b[0m\u001b[1;33m[\u001b[0m\u001b[0mx\u001b[0m \u001b[1;32min\u001b[0m \u001b[0my\u001b[0m \u001b[1;32mfor\u001b[0m \u001b[0mx\u001b[0m \u001b[1;32min\u001b[0m \u001b[0masia\u001b[0m\u001b[1;33m]\u001b[0m\u001b[1;33m)\u001b[0m\u001b[1;33m:\u001b[0m\u001b[1;33m\u001b[0m\u001b[1;33m\u001b[0m\u001b[0m\n\u001b[0m\u001b[0;32m      9\u001b[0m         \u001b[1;32mreturn\u001b[0m \u001b[1;34m\"Asia\"\u001b[0m\u001b[1;33m\u001b[0m\u001b[1;33m\u001b[0m\u001b[0m\n\u001b[0;32m     10\u001b[0m     \u001b[1;32melif\u001b[0m \u001b[0many\u001b[0m\u001b[1;33m(\u001b[0m\u001b[1;33m[\u001b[0m\u001b[0mx\u001b[0m \u001b[1;32min\u001b[0m \u001b[0my\u001b[0m \u001b[1;32mfor\u001b[0m \u001b[0mx\u001b[0m \u001b[1;32min\u001b[0m \u001b[0meurope\u001b[0m\u001b[1;33m]\u001b[0m\u001b[1;33m)\u001b[0m\u001b[1;33m:\u001b[0m\u001b[1;33m\u001b[0m\u001b[1;33m\u001b[0m\u001b[0m\n",
      "\u001b[1;31mTypeError\u001b[0m: argument of type 'float' is not iterable"
     ]
    }
   ],
   "source": [
    "def conditions(y):\n",
    "    asia = [ \"Thailand\",\"Phlippine\",\"India\",\"Indonesia\",\"en:CH\",\"Singapore\",\"Chine\",\"Hong Kong\",\"Japon\"]\n",
    "    europe = [\"Fran\",\"Espa\",\"Spain\",\"Germany\",\"land\",\"Allemagne\",\"Belg\",\"Portugal\",\"Pol\",\"Norway\", \"Austria\", \\\n",
    "              \"UK\",\"Royaume-uni\",\"Ita\",\"uisse\",\"witzerland\",\"Pays-Bas\",\"United Kingdom\",  \\\n",
    "              \"en:DE\",\"en:FR\", \"en:ES\", \"en:GB\",\"en:IT\",\"en:PT\",\"en:EU\", \"en:BE\",\"Danemark\", \"European\"]\n",
    "    america = [\"US\",\"en:US\",\"en:CA\",\"United States\",\"Bra\",\"Canada\",\"USA\",\"xico\",\"Chil\"]\n",
    "\n",
    "    if any([x in y for x in asia]):\n",
    "        return \"Asia\"\n",
    "    elif any([x in y for x in europe]):\n",
    "        return \"Europe\"\n",
    "    elif any([x in y for x in america]): \n",
    "        return \"America\"\n",
    "    else: \n",
    "        return \"World\"\n",
    "    \n",
    "food_8['continent'] = food_8['countries'].apply(conditions)"
   ]
  },
  {
   "cell_type": "code",
   "execution_count": null,
   "id": "36e3ed87",
   "metadata": {},
   "outputs": [],
   "source": []
  },
  {
   "cell_type": "code",
   "execution_count": null,
   "id": "ec8ea6d0",
   "metadata": {},
   "outputs": [],
   "source": [
    "food_8.to_csv('food_8.csv')"
   ]
  }
 ],
 "metadata": {
  "kernelspec": {
   "display_name": "Python 3 (ipykernel)",
   "language": "python",
   "name": "python3"
  },
  "language_info": {
   "codemirror_mode": {
    "name": "ipython",
    "version": 3
   },
   "file_extension": ".py",
   "mimetype": "text/x-python",
   "name": "python",
   "nbconvert_exporter": "python",
   "pygments_lexer": "ipython3",
   "version": "3.9.13"
  }
 },
 "nbformat": 4,
 "nbformat_minor": 5
}
