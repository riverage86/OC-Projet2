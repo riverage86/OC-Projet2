{
 "cells": [
  {
   "cell_type": "code",
   "execution_count": 1,
   "id": "579108f5",
   "metadata": {},
   "outputs": [],
   "source": [
    "import pandas as pd\n",
    "import numpy as np\n",
    "import warnings \n",
    "import matplotlib.pyplot as plt\n",
    "from sklearn.linear_model import LinearRegression\n",
    "import seaborn as sns\n",
    "from sklearn.decomposition import PCA"
   ]
  },
  {
   "cell_type": "code",
   "execution_count": 2,
   "id": "cf8cfa60",
   "metadata": {},
   "outputs": [],
   "source": [
    "warnings.filterwarnings('ignore')"
   ]
  },
  {
   "cell_type": "code",
   "execution_count": 3,
   "id": "6feeb37a",
   "metadata": {},
   "outputs": [],
   "source": [
    "food = pd.read_csv('openfoodfacts.csv', engine = 'python', sep = '\\t', on_bad_lines = 'skip')"
   ]
  },
  {
   "cell_type": "code",
   "execution_count": 4,
   "id": "f416f3b3",
   "metadata": {},
   "outputs": [
    {
     "data": {
      "text/plain": [
       "(320767, 162)"
      ]
     },
     "execution_count": 4,
     "metadata": {},
     "output_type": "execute_result"
    }
   ],
   "source": [
    "food.shape"
   ]
  },
  {
   "cell_type": "markdown",
   "id": "ef3ea87f",
   "metadata": {},
   "source": [
    "1. Nettoyage des variables avec trop peu de valeurs\n",
    "- il y a beaucoup de variables avec très peu de valeurs, on va retenir les variables avec plus 10% individus avec valeurs ."
   ]
  },
  {
   "cell_type": "code",
   "execution_count": 5,
   "id": "3e54326d",
   "metadata": {},
   "outputs": [
    {
     "data": {
      "text/plain": [
       "code                       0.999928\n",
       "url                        0.999928\n",
       "creator                    0.999994\n",
       "created_t                  0.999991\n",
       "created_datetime           0.999972\n",
       "                             ...   \n",
       "carbon-footprint_100g      0.000835\n",
       "nutrition-score-fr_100g    0.689616\n",
       "nutrition-score-uk_100g    0.689616\n",
       "glycemic-index_100g        0.000000\n",
       "water-hardness_100g        0.000000\n",
       "Length: 162, dtype: float64"
      ]
     },
     "execution_count": 5,
     "metadata": {},
     "output_type": "execute_result"
    }
   ],
   "source": [
    "food.notna().sum()/len(food)"
   ]
  },
  {
   "cell_type": "code",
   "execution_count": 6,
   "id": "24e6faba",
   "metadata": {},
   "outputs": [],
   "source": [
    "food_1 = food\n",
    "for var in food:\n",
    "    if food[var].isna().sum()/len(food) > 0.9:\n",
    "        food_1 = food_1.drop([var], axis = 1)"
   ]
  },
  {
   "cell_type": "code",
   "execution_count": 7,
   "id": "d6e97279",
   "metadata": {},
   "outputs": [
    {
     "data": {
      "text/plain": [
       "(320767, 62)"
      ]
     },
     "execution_count": 7,
     "metadata": {},
     "output_type": "execute_result"
    }
   ],
   "source": [
    "food_1.shape"
   ]
  },
  {
   "cell_type": "markdown",
   "id": "bff48468",
   "metadata": {},
   "source": [
    "2. Nettoyage des variables inutiles pour l'application : Notre application utilisent les variables quantitive suivantes pour chaque type de population, les autres variabales quantitatives sont eliminées : Energie (kcal)\tvitamine_A (microGrammes)\tvitamine C (mg)\tcalcium (mg), fer (mg)\tprotein (g)\tglucide/carbonhydrate (g)\tlipide/gras (g)\tsel max (g)\tsucre max (g)\n",
    "\n",
    "    - eliminer les variables temps: \n",
    "    - éliminer les variables doublons qui termine par '_tags', 'url',  '_fr' (sauf grade_fr)\n",
    "    - éliminer les variables non signficatives pour l'application"
   ]
  },
  {
   "cell_type": "code",
   "execution_count": 8,
   "id": "c77f240a",
   "metadata": {},
   "outputs": [],
   "source": [
    "food_2 = food_1.drop(['created_t', 'last_modified_t', 'last_modified_datetime', 'created_datetime'], axis = 1)"
   ]
  },
  {
   "cell_type": "code",
   "execution_count": 9,
   "id": "0535a668",
   "metadata": {},
   "outputs": [],
   "source": [
    "for var in food_2:\n",
    "    if (var[-3:] == 'url' or var[-5:] == '_tags') :\n",
    "        food_2 = food_2.drop([var], axis =1)"
   ]
  },
  {
   "cell_type": "code",
   "execution_count": 10,
   "id": "190fd57a",
   "metadata": {},
   "outputs": [],
   "source": [
    "for var in food_2:\n",
    "    if (var[-3:] == '_fr' and var[-8:] != 'grade_fr') :\n",
    "        food_2 = food_2.drop([var], axis =1)"
   ]
  },
  {
   "cell_type": "code",
   "execution_count": 11,
   "id": "9df920dd",
   "metadata": {},
   "outputs": [],
   "source": [
    "food_2 = food_2.drop(['creator','categories', 'quantity', 'generic_name','packaging','manufacturing_places',\n",
    "                           'labels','ingredients_text','purchase_places','main_category',\n",
    "                           'stores','ingredients_from_palm_oil_n','ingredients_that_may_be_from_palm_oil_n',\n",
    "                           'additives_n','additives','states', 'pnns_groups_1','pnns_groups_2',\n",
    "                           'nutrition-score-uk_100g', 'saturated-fat_100g', 'trans-fat_100g', 'cholesterol_100g', 'sodium_100g', 'fiber_100g', 'brands', 'countries', 'serving_size'], axis =1)"
   ]
  },
  {
   "cell_type": "code",
   "execution_count": 12,
   "id": "b6aa2d50",
   "metadata": {},
   "outputs": [],
   "source": [
    "food_2.to_csv('food_2.csv')"
   ]
  },
  {
   "cell_type": "code",
   "execution_count": 13,
   "id": "845dcac5",
   "metadata": {},
   "outputs": [
    {
     "data": {
      "text/plain": [
       "(320767, 14)"
      ]
     },
     "execution_count": 13,
     "metadata": {},
     "output_type": "execute_result"
    }
   ],
   "source": [
    "food_2.shape"
   ]
  },
  {
   "cell_type": "markdown",
   "id": "2ee13a10",
   "metadata": {},
   "source": [
    "3. Nettoyage des individus qui ne peuvent pas être utilisés par l'application:  \n",
    "        - éliminier les produits avec code ou product_name vide  \n",
    "        - éliminer les produits dont plus 80% valeurs (8 sur 10) nutriments sont manquantes"
   ]
  },
  {
   "cell_type": "code",
   "execution_count": 14,
   "id": "e75c312d",
   "metadata": {},
   "outputs": [
    {
     "data": {
      "text/plain": [
       "17783"
      ]
     },
     "execution_count": 14,
     "metadata": {},
     "output_type": "execute_result"
    }
   ],
   "source": [
    "food_2['code'].isna().sum() | food_2['product_name'].isna().sum()"
   ]
  },
  {
   "cell_type": "code",
   "execution_count": 15,
   "id": "b4eb6014",
   "metadata": {},
   "outputs": [],
   "source": [
    "food_3= food_2.loc[food_2['product_name'].notna() & food_2['code'].notna()]"
   ]
  },
  {
   "cell_type": "code",
   "execution_count": 16,
   "id": "c63a0caa",
   "metadata": {},
   "outputs": [
    {
     "data": {
      "text/plain": [
       "44671"
      ]
     },
     "execution_count": 16,
     "metadata": {},
     "output_type": "execute_result"
    }
   ],
   "source": [
    "nutri_col = ['energy_100g', 'fat_100g', 'carbohydrates_100g', 'sugars_100g', 'proteins_100g','salt_100g','vitamin-a_100g','vitamin-c_100g','calcium_100g','iron_100g']\n",
    "food_nutri = food_3[nutri_col]\n",
    "(food_nutri.apply(lambda x: x.isnull().sum(), axis=1) > 8).sum()"
   ]
  },
  {
   "cell_type": "code",
   "execution_count": 17,
   "id": "6ca2f331",
   "metadata": {},
   "outputs": [],
   "source": [
    "food_3 = food_3.loc[food_nutri.apply(lambda x: x.isnull().sum(), axis=1) <= 8]"
   ]
  },
  {
   "cell_type": "code",
   "execution_count": 18,
   "id": "26376a25",
   "metadata": {},
   "outputs": [
    {
     "data": {
      "text/plain": [
       "(258311, 14)"
      ]
     },
     "execution_count": 18,
     "metadata": {},
     "output_type": "execute_result"
    }
   ],
   "source": [
    "food_3.shape"
   ]
  },
  {
   "cell_type": "markdown",
   "id": "bc351122",
   "metadata": {},
   "source": [
    "4. Remplacer les individus dont des valeurs de nutrition sont invalides (< 0, ou > 100) par la moyenne"
   ]
  },
  {
   "cell_type": "code",
   "execution_count": 19,
   "id": "3c106b7f",
   "metadata": {},
   "outputs": [],
   "source": [
    "food_4 = food_3.copy()"
   ]
  },
  {
   "cell_type": "code",
   "execution_count": 20,
   "id": "ebaa472b",
   "metadata": {},
   "outputs": [
    {
     "data": {
      "text/html": [
       "<div>\n",
       "<style scoped>\n",
       "    .dataframe tbody tr th:only-of-type {\n",
       "        vertical-align: middle;\n",
       "    }\n",
       "\n",
       "    .dataframe tbody tr th {\n",
       "        vertical-align: top;\n",
       "    }\n",
       "\n",
       "    .dataframe thead th {\n",
       "        text-align: right;\n",
       "    }\n",
       "</style>\n",
       "<table border=\"1\" class=\"dataframe\">\n",
       "  <thead>\n",
       "    <tr style=\"text-align: right;\">\n",
       "      <th></th>\n",
       "      <th>code</th>\n",
       "      <th>product_name</th>\n",
       "      <th>nutrition_grade_fr</th>\n",
       "      <th>energy_100g</th>\n",
       "      <th>fat_100g</th>\n",
       "      <th>carbohydrates_100g</th>\n",
       "      <th>sugars_100g</th>\n",
       "      <th>proteins_100g</th>\n",
       "      <th>salt_100g</th>\n",
       "      <th>vitamin-a_100g</th>\n",
       "      <th>vitamin-c_100g</th>\n",
       "      <th>calcium_100g</th>\n",
       "      <th>iron_100g</th>\n",
       "      <th>nutrition-score-fr_100g</th>\n",
       "    </tr>\n",
       "  </thead>\n",
       "  <tbody>\n",
       "    <tr>\n",
       "      <th>1</th>\n",
       "      <td>0000000004530</td>\n",
       "      <td>Banana Chips Sweetened (Whole)</td>\n",
       "      <td>d</td>\n",
       "      <td>2243.0</td>\n",
       "      <td>28.57</td>\n",
       "      <td>64.29</td>\n",
       "      <td>14.29</td>\n",
       "      <td>3.57</td>\n",
       "      <td>0.00000</td>\n",
       "      <td>0.0</td>\n",
       "      <td>0.0214</td>\n",
       "      <td>0.000</td>\n",
       "      <td>0.00129</td>\n",
       "      <td>14.0</td>\n",
       "    </tr>\n",
       "    <tr>\n",
       "      <th>2</th>\n",
       "      <td>0000000004559</td>\n",
       "      <td>Peanuts</td>\n",
       "      <td>b</td>\n",
       "      <td>1941.0</td>\n",
       "      <td>17.86</td>\n",
       "      <td>60.71</td>\n",
       "      <td>17.86</td>\n",
       "      <td>17.86</td>\n",
       "      <td>0.63500</td>\n",
       "      <td>0.0</td>\n",
       "      <td>0.0000</td>\n",
       "      <td>0.071</td>\n",
       "      <td>0.00129</td>\n",
       "      <td>0.0</td>\n",
       "    </tr>\n",
       "    <tr>\n",
       "      <th>3</th>\n",
       "      <td>0000000016087</td>\n",
       "      <td>Organic Salted Nut Mix</td>\n",
       "      <td>d</td>\n",
       "      <td>2540.0</td>\n",
       "      <td>57.14</td>\n",
       "      <td>17.86</td>\n",
       "      <td>3.57</td>\n",
       "      <td>17.86</td>\n",
       "      <td>1.22428</td>\n",
       "      <td>NaN</td>\n",
       "      <td>NaN</td>\n",
       "      <td>0.143</td>\n",
       "      <td>0.00514</td>\n",
       "      <td>12.0</td>\n",
       "    </tr>\n",
       "  </tbody>\n",
       "</table>\n",
       "</div>"
      ],
      "text/plain": [
       "            code                    product_name nutrition_grade_fr  \\\n",
       "1  0000000004530  Banana Chips Sweetened (Whole)                  d   \n",
       "2  0000000004559                         Peanuts                  b   \n",
       "3  0000000016087          Organic Salted Nut Mix                  d   \n",
       "\n",
       "   energy_100g  fat_100g  carbohydrates_100g  sugars_100g  proteins_100g  \\\n",
       "1       2243.0     28.57               64.29        14.29           3.57   \n",
       "2       1941.0     17.86               60.71        17.86          17.86   \n",
       "3       2540.0     57.14               17.86         3.57          17.86   \n",
       "\n",
       "   salt_100g  vitamin-a_100g  vitamin-c_100g  calcium_100g  iron_100g  \\\n",
       "1    0.00000             0.0          0.0214         0.000    0.00129   \n",
       "2    0.63500             0.0          0.0000         0.071    0.00129   \n",
       "3    1.22428             NaN             NaN         0.143    0.00514   \n",
       "\n",
       "   nutrition-score-fr_100g  \n",
       "1                     14.0  \n",
       "2                      0.0  \n",
       "3                     12.0  "
      ]
     },
     "execution_count": 20,
     "metadata": {},
     "output_type": "execute_result"
    }
   ],
   "source": [
    "food_4['fat_100g'] = food_4['fat_100g'].apply(lambda x: food_4['fat_100g'].mean() if (x > 100 or x < 0) else x)\n",
    "food_4['carbohydrates_100g'] = food_4['carbohydrates_100g'].apply(lambda x: food_4['carbohydrates_100g'].mean() if (x > 100 or x < 0) else x)\n",
    "food_4['sugars_100g'] = food_4['sugars_100g'].apply(lambda x: food_4['sugars_100g'].mean() if (x > 100 or x < 0) else x)\n",
    "food_4['vitamin-a_100g'] = food_4['vitamin-a_100g'].apply(lambda x: food_4['vitamin-a_100g'].mean() if (x > 100 or x < 0) else x)\n",
    "food_4['vitamin-c_100g'] = food_4['vitamin-c_100g'].apply(lambda x: food_4['vitamin-c_100g'].mean() if (x > 100 or x < 0) else x)\n",
    "food_4['calcium_100g'] = food_4['calcium_100g'].apply(lambda x: food_4['calcium_100g'].mean() if (x > 100 or x < 0) else x)\n",
    "food_4['iron_100g'] = food_4['iron_100g'].apply(lambda x: food_4['iron_100g'].mean() if (x > 100 or x < 0) else x)\n",
    "food_4['nutrition-score-fr_100g'] = food_4['nutrition-score-fr_100g'].apply(lambda x: food_4['nutrition-score-fr_100g'].mean() if x > 100 else x)\n",
    "food_4['salt_100g'] = food_4['salt_100g'].apply(lambda x: food_4['salt_100g'].mean() if (x > 100 or x < 0) else x)\n",
    "food_4['proteins_100g'] = food_4['proteins_100g'].apply(lambda x: food_4['proteins_100g'].mean() if (x > 100 or x < 0) else x)\n",
    "food_4.head(3)"
   ]
  },
  {
   "cell_type": "code",
   "execution_count": 21,
   "id": "04969aeb",
   "metadata": {},
   "outputs": [
    {
     "data": {
      "text/plain": [
       "(258311, 14)"
      ]
     },
     "execution_count": 21,
     "metadata": {},
     "output_type": "execute_result"
    }
   ],
   "source": [
    "food_4.shape"
   ]
  },
  {
   "cell_type": "code",
   "execution_count": 22,
   "id": "7f35336c",
   "metadata": {},
   "outputs": [],
   "source": [
    "food_4.to_csv('food_4.csv')"
   ]
  },
  {
   "cell_type": "markdown",
   "id": "2050b49f",
   "metadata": {},
   "source": [
    "5. traitement des valeurs manquantes soit par la moyenne, par la médiane et par la relation "
   ]
  },
  {
   "cell_type": "code",
   "execution_count": 23,
   "id": "8c29b156",
   "metadata": {},
   "outputs": [],
   "source": [
    "food_5 = pd.read_csv('food_4.csv', index_col=[0])"
   ]
  },
  {
   "cell_type": "code",
   "execution_count": 24,
   "id": "83887ca2",
   "metadata": {},
   "outputs": [
    {
     "data": {
      "text/plain": [
       "615290"
      ]
     },
     "execution_count": 24,
     "metadata": {},
     "output_type": "execute_result"
    }
   ],
   "source": [
    "food_5.isnull().sum().sum()"
   ]
  },
  {
   "cell_type": "code",
   "execution_count": 25,
   "id": "9c2d785b",
   "metadata": {},
   "outputs": [],
   "source": [
    "food_5['energy_100g'].fillna(food_5['energy_100g'].mean(), inplace=True)\n",
    "food_5['fat_100g'].fillna(food_5['fat_100g'].mean(), inplace=True)\n",
    "food_5['carbohydrates_100g'].fillna(food_5['carbohydrates_100g'].mean(), inplace=True)\n",
    "food_5['sugars_100g'].fillna(food_5['sugars_100g'].mean(), inplace=True)\n",
    "food_5['vitamin-a_100g'].fillna(food_5['vitamin-a_100g'].mean(), inplace=True)\n",
    "food_5['vitamin-c_100g'].fillna(food_5['vitamin-c_100g'].mean(), inplace=True)\n",
    "food_5['calcium_100g'].fillna(food_5['calcium_100g'].mean(), inplace=True)\n",
    "food_5['iron_100g'].fillna(food_5['iron_100g'].mean(), inplace=True)\n",
    "food_5['salt_100g'].fillna(food_5['salt_100g'].mean(), inplace=True)\n",
    "food_5['proteins_100g'].fillna(food_5['proteins_100g'].mean(), inplace=True)"
   ]
  },
  {
   "cell_type": "code",
   "execution_count": 26,
   "id": "5b56dc6e",
   "metadata": {},
   "outputs": [
    {
     "data": {
      "text/plain": [
       "80076"
      ]
     },
     "execution_count": 26,
     "metadata": {},
     "output_type": "execute_result"
    }
   ],
   "source": [
    "food_5.isnull().sum().sum()"
   ]
  },
  {
   "cell_type": "code",
   "execution_count": 27,
   "id": "857a73f4",
   "metadata": {},
   "outputs": [],
   "source": [
    "food_5['nutrition-score-fr_100g'].fillna(food_5['nutrition-score-fr_100g'].median(), inplace=True)"
   ]
  },
  {
   "cell_type": "code",
   "execution_count": 28,
   "id": "c656fdbb",
   "metadata": {},
   "outputs": [
    {
     "data": {
      "text/plain": [
       "40038"
      ]
     },
     "execution_count": 28,
     "metadata": {},
     "output_type": "execute_result"
    }
   ],
   "source": [
    "food_5.isnull().sum().sum()"
   ]
  },
  {
   "cell_type": "markdown",
   "id": "ce4ce6e4",
   "metadata": {},
   "source": [
    "remplace la valeur manquante de nutrition_grade_fr via la relation entre nutrition_grade_fr et nutrition-score-fr_100g : \n",
    "    a < 0, 0<=b < 3, 3<=c <=10, 10 < d < 20, e >= 20. "
   ]
  },
  {
   "cell_type": "code",
   "execution_count": 29,
   "id": "f1d549e6",
   "metadata": {},
   "outputs": [],
   "source": [
    "def condition(x):\n",
    "    if x < 0:\n",
    "        return \"a\"\n",
    "    elif x>=0 and x<3:\n",
    "        return \"b\"\n",
    "    elif x>=3 and x<=10:\n",
    "        return \"c\"\n",
    "    elif x>10 and x<20:\n",
    "        return \"d\"\n",
    "    else:\n",
    "        return \"e\"\n",
    "food_5['nutrition_grade_fr'] = food_5['nutrition-score-fr_100g'].apply(condition)"
   ]
  },
  {
   "cell_type": "code",
   "execution_count": 30,
   "id": "be380921",
   "metadata": {},
   "outputs": [],
   "source": [
    "food_5 = food_5.drop(['nutrition-score-fr_100g'], axis = 1)"
   ]
  },
  {
   "cell_type": "code",
   "execution_count": 31,
   "id": "91d1bf72",
   "metadata": {},
   "outputs": [
    {
     "data": {
      "text/plain": [
       "0"
      ]
     },
     "execution_count": 31,
     "metadata": {},
     "output_type": "execute_result"
    }
   ],
   "source": [
    "food_5.isnull().sum().sum()"
   ]
  },
  {
   "cell_type": "markdown",
   "id": "99f3fb79",
   "metadata": {},
   "source": [
    "Explication:;   Il n'y a plus de valeurs manquantes"
   ]
  },
  {
   "cell_type": "code",
   "execution_count": 32,
   "id": "b6df26b4",
   "metadata": {},
   "outputs": [],
   "source": [
    "food_5.to_csv('food_5.csv')"
   ]
  },
  {
   "cell_type": "code",
   "execution_count": 33,
   "id": "a0ad5a90",
   "metadata": {},
   "outputs": [
    {
     "data": {
      "text/plain": [
       "(258311, 13)"
      ]
     },
     "execution_count": 33,
     "metadata": {},
     "output_type": "execute_result"
    }
   ],
   "source": [
    "food_5.shape"
   ]
  },
  {
   "cell_type": "markdown",
   "id": "2c928ed4",
   "metadata": {},
   "source": [
    "6:  traitement des outliers"
   ]
  },
  {
   "cell_type": "code",
   "execution_count": 34,
   "id": "fbd61f5a",
   "metadata": {},
   "outputs": [],
   "source": [
    "food_6 = food_5.copy()"
   ]
  },
  {
   "cell_type": "code",
   "execution_count": 35,
   "id": "a58a2278",
   "metadata": {},
   "outputs": [],
   "source": [
    "Q1 = food_6.quantile(0.25)\n",
    "Q3 = food_6.quantile(0.75)\n",
    "IQR = Q3 - Q1\n",
    "\n",
    "# Remove outliers\n",
    "food_6 = food_6[~((food_6 < (Q1 - 1.5 * IQR)) |(food_6 > (Q3 + 1.5 * IQR))).any(axis=1)]"
   ]
  },
  {
   "cell_type": "code",
   "execution_count": 36,
   "id": "03b0552f",
   "metadata": {},
   "outputs": [
    {
     "data": {
      "text/plain": [
       "(186774, 13)"
      ]
     },
     "execution_count": 36,
     "metadata": {},
     "output_type": "execute_result"
    }
   ],
   "source": [
    "food_6.shape"
   ]
  },
  {
   "cell_type": "code",
   "execution_count": 37,
   "id": "9a8745f9",
   "metadata": {},
   "outputs": [],
   "source": [
    "food_7 = food_6.drop_duplicates(keep=False)"
   ]
  },
  {
   "cell_type": "code",
   "execution_count": 38,
   "id": "6949a5a0",
   "metadata": {},
   "outputs": [
    {
     "data": {
      "text/plain": [
       "(186768, 13)"
      ]
     },
     "execution_count": 38,
     "metadata": {},
     "output_type": "execute_result"
    }
   ],
   "source": [
    "food_7.shape"
   ]
  },
  {
   "cell_type": "code",
   "execution_count": 39,
   "id": "16856b53",
   "metadata": {
    "scrolled": true
   },
   "outputs": [
    {
     "data": {
      "text/plain": [
       "code                  1.0\n",
       "product_name          1.0\n",
       "nutrition_grade_fr    1.0\n",
       "energy_100g           1.0\n",
       "fat_100g              1.0\n",
       "carbohydrates_100g    1.0\n",
       "sugars_100g           1.0\n",
       "proteins_100g         1.0\n",
       "salt_100g             1.0\n",
       "vitamin-a_100g        1.0\n",
       "vitamin-c_100g        1.0\n",
       "calcium_100g          1.0\n",
       "iron_100g             1.0\n",
       "dtype: float64"
      ]
     },
     "execution_count": 39,
     "metadata": {},
     "output_type": "execute_result"
    }
   ],
   "source": [
    "food_7.notna().sum()/len(food_7)"
   ]
  },
  {
   "cell_type": "code",
   "execution_count": 40,
   "id": "237cde90",
   "metadata": {},
   "outputs": [],
   "source": [
    "food_7.to_csv('food_7.csv')"
   ]
  }
 ],
 "metadata": {
  "kernelspec": {
   "display_name": "Python 3 (ipykernel)",
   "language": "python",
   "name": "python3"
  },
  "language_info": {
   "codemirror_mode": {
    "name": "ipython",
    "version": 3
   },
   "file_extension": ".py",
   "mimetype": "text/x-python",
   "name": "python",
   "nbconvert_exporter": "python",
   "pygments_lexer": "ipython3",
   "version": "3.9.13"
  }
 },
 "nbformat": 4,
 "nbformat_minor": 5
}
